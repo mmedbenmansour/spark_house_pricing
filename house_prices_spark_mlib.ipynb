{
 "cells": [
  {
   "cell_type": "code",
   "execution_count": 1,
   "metadata": {},
   "outputs": [],
   "source": [
    "#Importer la bibliotheque findspark pour ajouter pyspark à sys.path au runtime, \n",
    "#cela rend sparkContext disponible dans le code\n",
    "import findspark\n",
    "\n",
    "#initialiser findspark pour que pyspark soit importable\n",
    "findspark.init()\n",
    "\n",
    "#Importer la bibliotheque pyspark\n",
    "import pyspark\n",
    "\n",
    "#Point d'entrée principale pour utiliser les fonctionnalités de spark. \n",
    "#SparkContext represente la connection à un cluster Spark.\n",
    "from pyspark.context import SparkContext\n",
    "\n",
    "#Point d'entrée pour interagir avec les Datasets et les DataFrames.\n",
    "from pyspark.sql.session import SparkSession\n",
    "\n",
    "#fonctions de la bibliotheque sql de pyspark\n",
    "#count: retourne le nombre d'element dans une collection\n",
    "#when : Evalue une liste de condition et retourne les elements qui les satisfaient \n",
    "#avg  : retourne la moyenne des elements d'une collection\n",
    "#translate: change une valeur données pour une colonne par une autre valeur\n",
    "#isnull: retourne vrai si l'element a une valeur nulle\n",
    "from pyspark.sql.functions import isnull, when, count, avg, translate, col\n",
    "\n",
    "#StringIndexer: encode qui a des valeurs sous forme de chaine de caractere à une colonne de valeur\n",
    "#sous forme d'indice entier.\n",
    "#VectorAssembler: un transformateur qui combine une liste donnée de colonnes en une seule colonne vectorielle.\n",
    "from pyspark.ml.feature import StringIndexer, VectorAssembler\n",
    "\n",
    "#LinearRegression:L'interface pour travailler avec des modèles de régression linéaire.\n",
    "#RandomForestRegressor: interface pour utiliser la regression de Random Forest\n",
    "from pyspark.ml.regression import LinearRegression, RandomForestRegressor\n",
    "\n",
    "#Pour evaluer le modele de regression\n",
    "from pyspark.ml.evaluation import RegressionEvaluator\n",
    "\n",
    "#Pour lancer une sequence d'instructions/ d'algorithmes selon un ordre defini.\n",
    "from pyspark.ml import Pipeline"
   ]
  },
  {
   "cell_type": "code",
   "execution_count": 2,
   "metadata": {},
   "outputs": [],
   "source": [
    "#Recuperer une SparkSession ou bien créer une nouvelle en se basant sur les options \n",
    "#passées au Builder si la session est inexistente.\n",
    "spark=SparkSession.builder.master('local').appName('house_price_pred').getOrCreate()"
   ]
  },
  {
   "cell_type": "code",
   "execution_count": 3,
   "metadata": {},
   "outputs": [],
   "source": [
    "#nullValue: pour spécifier la chaine de caractere qui represente la valeur nulle\n",
    "#inferSchema: déduire automatiquement le schéma d'entrée à partir des données.\n",
    "#header: utilise la première ligne comme noms de colonnes.\n",
    "train_df = spark.read.csv('train.csv',header=True,inferSchema=True,nullValue=\"NA\")\n",
    "test_df  = spark.read.csv('test.csv',header=True,inferSchema=True,nullValue=\"NA\")"
   ]
  },
  {
   "cell_type": "code",
   "execution_count": 4,
   "metadata": {},
   "outputs": [
    {
     "data": {
      "text/plain": [
       "[Row(Id=0, MSSubClass=0, MSZoning=0, LotFrontage=259, LotArea=0, Street=0, Alley=1369, LotShape=0, LandContour=0, Utilities=0, LotConfig=0, LandSlope=0, Neighborhood=0, Condition1=0, Condition2=0, BldgType=0, HouseStyle=0, OverallQual=0, OverallCond=0, YearBuilt=0, YearRemodAdd=0, RoofStyle=0, RoofMatl=0, Exterior1st=0, Exterior2nd=0, MasVnrType=8, MasVnrArea=8, ExterQual=0, ExterCond=0, Foundation=0, BsmtQual=37, BsmtCond=37, BsmtExposure=38, BsmtFinType1=37, BsmtFinSF1=0, BsmtFinType2=38, BsmtFinSF2=0, BsmtUnfSF=0, TotalBsmtSF=0, Heating=0, HeatingQC=0, CentralAir=0, Electrical=1, 1stFlrSF=0, 2ndFlrSF=0, LowQualFinSF=0, GrLivArea=0, BsmtFullBath=0, BsmtHalfBath=0, FullBath=0, HalfBath=0, BedroomAbvGr=0, KitchenAbvGr=0, KitchenQual=0, TotRmsAbvGrd=0, Functional=0, Fireplaces=0, FireplaceQu=690, GarageType=81, GarageYrBlt=81, GarageFinish=81, GarageCars=0, GarageArea=0, GarageQual=81, GarageCond=81, PavedDrive=0, WoodDeckSF=0, OpenPorchSF=0, EnclosedPorch=0, 3SsnPorch=0, ScreenPorch=0, PoolArea=0, PoolQC=1453, Fence=1179, MiscFeature=1406, MiscVal=0, MoSold=0, YrSold=0, SaleType=0, SaleCondition=0, SalePrice=0)]"
      ]
     },
     "execution_count": 4,
     "metadata": {},
     "output_type": "execute_result"
    }
   ],
   "source": [
    "def printColsNullNumber(this_df):\n",
    "    null_columns=this_df.select([count(when(isnull(c), c)).alias(c) for c in this_df.columns])\n",
    "    return null_columns.collect()\n",
    "    \n",
    "printColsNullNumber(train_df)"
   ]
  },
  {
   "cell_type": "code",
   "execution_count": 5,
   "metadata": {},
   "outputs": [
    {
     "data": {
      "text/plain": [
       "[Row(Id=0, MSSubClass=0, MSZoning=4, LotFrontage=227, LotArea=0, Street=0, Alley=1352, LotShape=0, LandContour=0, Utilities=2, LotConfig=0, LandSlope=0, Neighborhood=0, Condition1=0, Condition2=0, BldgType=0, HouseStyle=0, OverallQual=0, OverallCond=0, YearBuilt=0, YearRemodAdd=0, RoofStyle=0, RoofMatl=0, Exterior1st=1, Exterior2nd=1, MasVnrType=16, MasVnrArea=15, ExterQual=0, ExterCond=0, Foundation=0, BsmtQual=44, BsmtCond=45, BsmtExposure=44, BsmtFinType1=42, BsmtFinSF1=1, BsmtFinType2=42, BsmtFinSF2=1, BsmtUnfSF=1, TotalBsmtSF=1, Heating=0, HeatingQC=0, CentralAir=0, Electrical=0, 1stFlrSF=0, 2ndFlrSF=0, LowQualFinSF=0, GrLivArea=0, BsmtFullBath=2, BsmtHalfBath=2, FullBath=0, HalfBath=0, BedroomAbvGr=0, KitchenAbvGr=0, KitchenQual=1, TotRmsAbvGrd=0, Functional=2, Fireplaces=0, FireplaceQu=730, GarageType=76, GarageYrBlt=78, GarageFinish=78, GarageCars=1, GarageArea=1, GarageQual=78, GarageCond=78, PavedDrive=0, WoodDeckSF=0, OpenPorchSF=0, EnclosedPorch=0, 3SsnPorch=0, ScreenPorch=0, PoolArea=0, PoolQC=1456, Fence=1169, MiscFeature=1408, MiscVal=0, MoSold=0, YrSold=0, SaleType=1, SaleCondition=0)]"
      ]
     },
     "execution_count": 5,
     "metadata": {},
     "output_type": "execute_result"
    }
   ],
   "source": [
    "printColsNullNumber(test_df)"
   ]
  },
  {
   "cell_type": "code",
   "execution_count": 6,
   "metadata": {},
   "outputs": [],
   "source": [
    "#supprimer les colonne qui ont un taux de valeur null <NA> elevé\n",
    "#Alley=1369, FireplaceQu=690, PoolQC=1453, Fence=1179, MiscFeature=1406\n",
    "high_null_cols = ['Alley', 'FireplaceQu', 'PoolQC', 'Fence', 'MiscFeature']\n",
    "train_df=train_df.drop(*high_null_cols)\n",
    "test_df=test_df.drop(*high_null_cols)"
   ]
  },
  {
   "cell_type": "code",
   "execution_count": 7,
   "metadata": {},
   "outputs": [],
   "source": [
    "#remplacer les valeurs nulles des entiers par la moyennes de colonnes\n",
    "def fill_with_mean(this_df):\n",
    "    included=[item[0] for item in this_df.dtypes if item[1].startswith('int')]\n",
    "    stats = this_df.agg(*(avg(c).alias(c) for c in this_df.columns if c in included))\n",
    "    return this_df.na.fill(stats.first().asDict())\n",
    "\n",
    "train_df=fill_with_mean(train_df)\n",
    "test_df=fill_with_mean(test_df)"
   ]
  },
  {
   "cell_type": "code",
   "execution_count": 8,
   "metadata": {},
   "outputs": [
    {
     "data": {
      "text/plain": [
       "[Row(Id=1, MSSubClass=60, MSZoning=u'RL', LotFrontage=65, LotArea=8450, Street=u'Pave', LotShape=u'Reg', LandContour=u'Lvl', Utilities=u'AllPub', LotConfig=u'Inside', LandSlope=u'Gtl', Neighborhood=u'CollgCr', Condition1=u'Norm', Condition2=u'Norm', BldgType=u'1Fam', HouseStyle=u'2Story', OverallQual=7, OverallCond=5, YearBuilt=2003, YearRemodAdd=2003, RoofStyle=u'Gable', RoofMatl=u'CompShg', Exterior1st=u'VinylSd', Exterior2nd=u'VinylSd', MasVnrType=u'BrkFace', MasVnrArea=196, ExterQual=u'Gd', ExterCond=u'TA', Foundation=u'PConc', BsmtQual=u'Gd', BsmtCond=u'TA', BsmtExposure=u'No', BsmtFinType1=u'GLQ', BsmtFinSF1=706, BsmtFinType2=u'Unf', BsmtFinSF2=0, BsmtUnfSF=150, TotalBsmtSF=856, Heating=u'GasA', HeatingQC=u'Ex', CentralAir=u'Y', Electrical=u'SBrkr', 1stFlrSF=856, 2ndFlrSF=854, LowQualFinSF=0, GrLivArea=1710, BsmtFullBath=1, BsmtHalfBath=0, FullBath=2, HalfBath=1, BedroomAbvGr=3, KitchenAbvGr=1, KitchenQual=u'Gd', TotRmsAbvGrd=8, Functional=u'Typ', Fireplaces=0, GarageType=u'Attchd', GarageYrBlt=2003, GarageFinish=u'RFn', GarageCars=2, GarageArea=548, GarageQual=u'TA', GarageCond=u'TA', PavedDrive=u'Y', WoodDeckSF=0, OpenPorchSF=61, EnclosedPorch=0, 3SsnPorch=0, ScreenPorch=0, PoolArea=0, MiscVal=0, MoSold=2, YrSold=2008, SaleType=u'WD', SaleCondition=u'Normal', SalePrice=208500)]"
      ]
     },
     "execution_count": 8,
     "metadata": {},
     "output_type": "execute_result"
    }
   ],
   "source": [
    "train_df.head(1)"
   ]
  },
  {
   "cell_type": "code",
   "execution_count": 9,
   "metadata": {},
   "outputs": [],
   "source": [
    "#remplacer les valeurs nulles des chaines de caracteres par la chaine de caractere X\n",
    "#BsmtQual=37, BsmtCond=37, BsmtExposure=38, BsmtFinType1=37 BsmtFinType2=38, GarageType=81, GarageYrBlt=81, GarageFinish=81,GarageQual=81, GarageCond=81, Electrical=1,MasVnrType=8,\n",
    "def fill_with_string(this_df,replacement):\n",
    "    cols=[item[0] for item in this_df.dtypes if item[1].startswith('string')]\n",
    "    for col in cols:\n",
    "        this_df=this_df.na.fill(replacement,col)\n",
    "    return this_df\n",
    "\n",
    "train_df=fill_with_string(train_df,'X')\n",
    "test_df=fill_with_string(test_df,'X')"
   ]
  },
  {
   "cell_type": "code",
   "execution_count": 10,
   "metadata": {},
   "outputs": [],
   "source": [
    "def convertStringToIndex(this_df):\n",
    "    cols=[item[0] for item in this_df.dtypes if item[1].startswith('string')]\n",
    "    indexers = [StringIndexer(inputCol=column, outputCol=column+\"_index\").fit(this_df) \n",
    "                for column in list(set(cols)) ]\n",
    "    pipeline = Pipeline(stages=indexers)\n",
    "    this_df = pipeline.fit(this_df).transform(this_df)\n",
    "    return this_df"
   ]
  },
  {
   "cell_type": "code",
   "execution_count": 11,
   "metadata": {},
   "outputs": [],
   "source": [
    "#Convertir les valeurs sous forme de chaines de caracteres en indice numerique\n",
    "train_df=convertStringToIndex(train_df)\n",
    "test_df=convertStringToIndex(test_df)"
   ]
  },
  {
   "cell_type": "code",
   "execution_count": 12,
   "metadata": {},
   "outputs": [
    {
     "data": {
      "text/plain": [
       "[Row(Id=0, MSSubClass=0, MSZoning=0, LotFrontage=0, LotArea=0, Street=0, LotShape=0, LandContour=0, Utilities=0, LotConfig=0, LandSlope=0, Neighborhood=0, Condition1=0, Condition2=0, BldgType=0, HouseStyle=0, OverallQual=0, OverallCond=0, YearBuilt=0, YearRemodAdd=0, RoofStyle=0, RoofMatl=0, Exterior1st=0, Exterior2nd=0, MasVnrType=0, MasVnrArea=0, ExterQual=0, ExterCond=0, Foundation=0, BsmtQual=0, BsmtCond=0, BsmtExposure=0, BsmtFinType1=0, BsmtFinSF1=0, BsmtFinType2=0, BsmtFinSF2=0, BsmtUnfSF=0, TotalBsmtSF=0, Heating=0, HeatingQC=0, CentralAir=0, Electrical=0, 1stFlrSF=0, 2ndFlrSF=0, LowQualFinSF=0, GrLivArea=0, BsmtFullBath=0, BsmtHalfBath=0, FullBath=0, HalfBath=0, BedroomAbvGr=0, KitchenAbvGr=0, KitchenQual=0, TotRmsAbvGrd=0, Functional=0, Fireplaces=0, GarageType=0, GarageYrBlt=0, GarageFinish=0, GarageCars=0, GarageArea=0, GarageQual=0, GarageCond=0, PavedDrive=0, WoodDeckSF=0, OpenPorchSF=0, EnclosedPorch=0, 3SsnPorch=0, ScreenPorch=0, PoolArea=0, MiscVal=0, MoSold=0, YrSold=0, SaleType=0, SaleCondition=0, SalePrice=0, MasVnrType_index=0, LotConfig_index=0, GarageQual_index=0, Exterior1st_index=0, GarageFinish_index=0, Electrical_index=0, BsmtQual_index=0, HouseStyle_index=0, Foundation_index=0, GarageType_index=0, BsmtCond_index=0, HeatingQC_index=0, RoofStyle_index=0, CentralAir_index=0, BsmtExposure_index=0, Utilities_index=0, LotShape_index=0, PavedDrive_index=0, LandSlope_index=0, SaleType_index=0, MSZoning_index=0, Exterior2nd_index=0, Heating_index=0, RoofMatl_index=0, KitchenQual_index=0, BsmtFinType2_index=0, BsmtFinType1_index=0, Condition2_index=0, Condition1_index=0, GarageCond_index=0, LandContour_index=0, Neighborhood_index=0, SaleCondition_index=0, ExterCond_index=0, ExterQual_index=0, Functional_index=0, Street_index=0, BldgType_index=0)]"
      ]
     },
     "execution_count": 12,
     "metadata": {},
     "output_type": "execute_result"
    }
   ],
   "source": [
    "printColsNullNumber(train_df)"
   ]
  },
  {
   "cell_type": "code",
   "execution_count": 13,
   "metadata": {},
   "outputs": [
    {
     "data": {
      "text/plain": [
       "[Row(Id=0, MSSubClass=0, MSZoning=0, LotFrontage=0, LotArea=0, Street=0, LotShape=0, LandContour=0, Utilities=0, LotConfig=0, LandSlope=0, Neighborhood=0, Condition1=0, Condition2=0, BldgType=0, HouseStyle=0, OverallQual=0, OverallCond=0, YearBuilt=0, YearRemodAdd=0, RoofStyle=0, RoofMatl=0, Exterior1st=0, Exterior2nd=0, MasVnrType=0, MasVnrArea=0, ExterQual=0, ExterCond=0, Foundation=0, BsmtQual=0, BsmtCond=0, BsmtExposure=0, BsmtFinType1=0, BsmtFinSF1=0, BsmtFinType2=0, BsmtFinSF2=0, BsmtUnfSF=0, TotalBsmtSF=0, Heating=0, HeatingQC=0, CentralAir=0, Electrical=0, 1stFlrSF=0, 2ndFlrSF=0, LowQualFinSF=0, GrLivArea=0, BsmtFullBath=0, BsmtHalfBath=0, FullBath=0, HalfBath=0, BedroomAbvGr=0, KitchenAbvGr=0, KitchenQual=0, TotRmsAbvGrd=0, Functional=0, Fireplaces=0, GarageType=0, GarageYrBlt=0, GarageFinish=0, GarageCars=0, GarageArea=0, GarageQual=0, GarageCond=0, PavedDrive=0, WoodDeckSF=0, OpenPorchSF=0, EnclosedPorch=0, 3SsnPorch=0, ScreenPorch=0, PoolArea=0, MiscVal=0, MoSold=0, YrSold=0, SaleType=0, SaleCondition=0, MasVnrType_index=0, LotConfig_index=0, GarageQual_index=0, Exterior1st_index=0, GarageFinish_index=0, Electrical_index=0, BsmtQual_index=0, HouseStyle_index=0, Foundation_index=0, GarageType_index=0, BsmtCond_index=0, HeatingQC_index=0, RoofStyle_index=0, CentralAir_index=0, BsmtExposure_index=0, Utilities_index=0, LotShape_index=0, PavedDrive_index=0, LandSlope_index=0, SaleType_index=0, MSZoning_index=0, Exterior2nd_index=0, Heating_index=0, RoofMatl_index=0, KitchenQual_index=0, BsmtFinType2_index=0, BsmtFinType1_index=0, Condition2_index=0, Condition1_index=0, GarageCond_index=0, LandContour_index=0, Neighborhood_index=0, SaleCondition_index=0, ExterCond_index=0, ExterQual_index=0, Functional_index=0, Street_index=0, BldgType_index=0)]"
      ]
     },
     "execution_count": 13,
     "metadata": {},
     "output_type": "execute_result"
    }
   ],
   "source": [
    "printColsNullNumber(test_df)"
   ]
  },
  {
   "cell_type": "code",
   "execution_count": 14,
   "metadata": {},
   "outputs": [
    {
     "name": "stdout",
     "output_type": "stream",
     "text": [
      "root\n",
      " |-- Id: integer (nullable = true)\n",
      " |-- MSSubClass: integer (nullable = true)\n",
      " |-- MSZoning: string (nullable = false)\n",
      " |-- LotFrontage: integer (nullable = true)\n",
      " |-- LotArea: integer (nullable = true)\n",
      " |-- Street: string (nullable = false)\n",
      " |-- LotShape: string (nullable = false)\n",
      " |-- LandContour: string (nullable = false)\n",
      " |-- Utilities: string (nullable = false)\n",
      " |-- LotConfig: string (nullable = false)\n",
      " |-- LandSlope: string (nullable = false)\n",
      " |-- Neighborhood: string (nullable = false)\n",
      " |-- Condition1: string (nullable = false)\n",
      " |-- Condition2: string (nullable = false)\n",
      " |-- BldgType: string (nullable = false)\n",
      " |-- HouseStyle: string (nullable = false)\n",
      " |-- OverallQual: integer (nullable = true)\n",
      " |-- OverallCond: integer (nullable = true)\n",
      " |-- YearBuilt: integer (nullable = true)\n",
      " |-- YearRemodAdd: integer (nullable = true)\n",
      " |-- RoofStyle: string (nullable = false)\n",
      " |-- RoofMatl: string (nullable = false)\n",
      " |-- Exterior1st: string (nullable = false)\n",
      " |-- Exterior2nd: string (nullable = false)\n",
      " |-- MasVnrType: string (nullable = false)\n",
      " |-- MasVnrArea: integer (nullable = true)\n",
      " |-- ExterQual: string (nullable = false)\n",
      " |-- ExterCond: string (nullable = false)\n",
      " |-- Foundation: string (nullable = false)\n",
      " |-- BsmtQual: string (nullable = false)\n",
      " |-- BsmtCond: string (nullable = false)\n",
      " |-- BsmtExposure: string (nullable = false)\n",
      " |-- BsmtFinType1: string (nullable = false)\n",
      " |-- BsmtFinSF1: integer (nullable = true)\n",
      " |-- BsmtFinType2: string (nullable = false)\n",
      " |-- BsmtFinSF2: integer (nullable = true)\n",
      " |-- BsmtUnfSF: integer (nullable = true)\n",
      " |-- TotalBsmtSF: integer (nullable = true)\n",
      " |-- Heating: string (nullable = false)\n",
      " |-- HeatingQC: string (nullable = false)\n",
      " |-- CentralAir: string (nullable = false)\n",
      " |-- Electrical: string (nullable = false)\n",
      " |-- 1stFlrSF: integer (nullable = true)\n",
      " |-- 2ndFlrSF: integer (nullable = true)\n",
      " |-- LowQualFinSF: integer (nullable = true)\n",
      " |-- GrLivArea: integer (nullable = true)\n",
      " |-- BsmtFullBath: integer (nullable = true)\n",
      " |-- BsmtHalfBath: integer (nullable = true)\n",
      " |-- FullBath: integer (nullable = true)\n",
      " |-- HalfBath: integer (nullable = true)\n",
      " |-- BedroomAbvGr: integer (nullable = true)\n",
      " |-- KitchenAbvGr: integer (nullable = true)\n",
      " |-- KitchenQual: string (nullable = false)\n",
      " |-- TotRmsAbvGrd: integer (nullable = true)\n",
      " |-- Functional: string (nullable = false)\n",
      " |-- Fireplaces: integer (nullable = true)\n",
      " |-- GarageType: string (nullable = false)\n",
      " |-- GarageYrBlt: integer (nullable = true)\n",
      " |-- GarageFinish: string (nullable = false)\n",
      " |-- GarageCars: integer (nullable = true)\n",
      " |-- GarageArea: integer (nullable = true)\n",
      " |-- GarageQual: string (nullable = false)\n",
      " |-- GarageCond: string (nullable = false)\n",
      " |-- PavedDrive: string (nullable = false)\n",
      " |-- WoodDeckSF: integer (nullable = true)\n",
      " |-- OpenPorchSF: integer (nullable = true)\n",
      " |-- EnclosedPorch: integer (nullable = true)\n",
      " |-- 3SsnPorch: integer (nullable = true)\n",
      " |-- ScreenPorch: integer (nullable = true)\n",
      " |-- PoolArea: integer (nullable = true)\n",
      " |-- MiscVal: integer (nullable = true)\n",
      " |-- MoSold: integer (nullable = true)\n",
      " |-- YrSold: integer (nullable = true)\n",
      " |-- SaleType: string (nullable = false)\n",
      " |-- SaleCondition: string (nullable = false)\n",
      " |-- SalePrice: integer (nullable = true)\n",
      " |-- MasVnrType_index: double (nullable = true)\n",
      " |-- LotConfig_index: double (nullable = true)\n",
      " |-- GarageQual_index: double (nullable = true)\n",
      " |-- Exterior1st_index: double (nullable = true)\n",
      " |-- GarageFinish_index: double (nullable = true)\n",
      " |-- Electrical_index: double (nullable = true)\n",
      " |-- BsmtQual_index: double (nullable = true)\n",
      " |-- HouseStyle_index: double (nullable = true)\n",
      " |-- Foundation_index: double (nullable = true)\n",
      " |-- GarageType_index: double (nullable = true)\n",
      " |-- BsmtCond_index: double (nullable = true)\n",
      " |-- HeatingQC_index: double (nullable = true)\n",
      " |-- RoofStyle_index: double (nullable = true)\n",
      " |-- CentralAir_index: double (nullable = true)\n",
      " |-- BsmtExposure_index: double (nullable = true)\n",
      " |-- Utilities_index: double (nullable = true)\n",
      " |-- LotShape_index: double (nullable = true)\n",
      " |-- PavedDrive_index: double (nullable = true)\n",
      " |-- LandSlope_index: double (nullable = true)\n",
      " |-- SaleType_index: double (nullable = true)\n",
      " |-- MSZoning_index: double (nullable = true)\n",
      " |-- Exterior2nd_index: double (nullable = true)\n",
      " |-- Heating_index: double (nullable = true)\n",
      " |-- RoofMatl_index: double (nullable = true)\n",
      " |-- KitchenQual_index: double (nullable = true)\n",
      " |-- BsmtFinType2_index: double (nullable = true)\n",
      " |-- BsmtFinType1_index: double (nullable = true)\n",
      " |-- Condition2_index: double (nullable = true)\n",
      " |-- Condition1_index: double (nullable = true)\n",
      " |-- GarageCond_index: double (nullable = true)\n",
      " |-- LandContour_index: double (nullable = true)\n",
      " |-- Neighborhood_index: double (nullable = true)\n",
      " |-- SaleCondition_index: double (nullable = true)\n",
      " |-- ExterCond_index: double (nullable = true)\n",
      " |-- ExterQual_index: double (nullable = true)\n",
      " |-- Functional_index: double (nullable = true)\n",
      " |-- Street_index: double (nullable = true)\n",
      " |-- BldgType_index: double (nullable = true)\n",
      "\n"
     ]
    }
   ],
   "source": [
    "train_df.printSchema()"
   ]
  },
  {
   "cell_type": "code",
   "execution_count": 15,
   "metadata": {},
   "outputs": [
    {
     "data": {
      "text/plain": [
       "['LotFrontage',\n",
       " 'OverallQual',\n",
       " 'YearBuilt',\n",
       " 'YearRemodAdd',\n",
       " 'MasVnrArea',\n",
       " 'BsmtFinSF1',\n",
       " 'TotalBsmtSF',\n",
       " '1stFlrSF',\n",
       " '2ndFlrSF',\n",
       " 'GrLivArea',\n",
       " 'FullBath',\n",
       " 'TotRmsAbvGrd',\n",
       " 'Fireplaces',\n",
       " 'GarageYrBlt',\n",
       " 'GarageCars',\n",
       " 'GarageArea',\n",
       " 'WoodDeckSF',\n",
       " 'OpenPorchSF',\n",
       " 'MasVnrType_index',\n",
       " 'BsmtQual_index',\n",
       " 'Foundation_index',\n",
       " 'HeatingQC_index',\n",
       " 'KitchenQual_index',\n",
       " 'ExterQual_index']"
      ]
     },
     "execution_count": 15,
     "metadata": {},
     "output_type": "execute_result"
    }
   ],
   "source": [
    "#valeur initiale de la liste des variables est toute les colonnes ayant un type entier ou double.\n",
    "#(les colonnes qui ont deja un type numerique et les colonnes generées lors de l'etape precedente)\n",
    "features=[item[0] for item in train_df.dtypes if item[1].startswith('int') or item[1].startswith('double')]\n",
    "\n",
    "#On enleve la colonne \"Id\" et \"SalePrice\" de la liste.\n",
    "features.remove('Id')\n",
    "features.remove('SalePrice')\n",
    "\n",
    "#fonction qui retourne une liste de colonnes qui ont une une correlation >= corrMin ou <= -corrMin\n",
    "def getCorrelatedFeatures(features,corrMin):\n",
    "    result=[]\n",
    "    for feature in features:\n",
    "        corr=train_df.corr(feature,'SalePrice')\n",
    "        #print(feature,corr)\n",
    "        if corr >=corrMin or corr<=-corrMin:\n",
    "            result.append(feature)\n",
    "    return result\n",
    "\n",
    "features=getCorrelatedFeatures(features,0.30)\n",
    "features"
   ]
  },
  {
   "cell_type": "code",
   "execution_count": 16,
   "metadata": {},
   "outputs": [],
   "source": [
    "assembler = VectorAssembler(inputCols = features, outputCol= \"features\")\n",
    "output = assembler.transform(train_df)"
   ]
  },
  {
   "cell_type": "code",
   "execution_count": 17,
   "metadata": {},
   "outputs": [],
   "source": [
    "datas=output.select('features','SalePrice')"
   ]
  },
  {
   "cell_type": "code",
   "execution_count": 18,
   "metadata": {},
   "outputs": [],
   "source": [
    "reg_lin=LinearRegression(labelCol='SalePrice')"
   ]
  },
  {
   "cell_type": "code",
   "execution_count": 19,
   "metadata": {},
   "outputs": [],
   "source": [
    "fited_reg_lin_model=reg_lin.fit(datas)"
   ]
  },
  {
   "cell_type": "code",
   "execution_count": 20,
   "metadata": {},
   "outputs": [
    {
     "name": "stdout",
     "output_type": "stream",
     "text": [
      "r2: 0.805361\n",
      "rmse: 35036.389694\n",
      "mae: 21552.717511\n"
     ]
    }
   ],
   "source": [
    "lin_model_sum=fited_reg_lin_model.summary\n",
    "print(\"r2: %f\" % lin_model_sum.r2)\n",
    "print(\"rmse: %f\" % lin_model_sum.rootMeanSquaredError)\n",
    "print(\"mae: %f\" % lin_model_sum.meanAbsoluteError)"
   ]
  },
  {
   "cell_type": "code",
   "execution_count": 21,
   "metadata": {},
   "outputs": [
    {
     "name": "stdout",
     "output_type": "stream",
     "text": [
      "+-------+------------------+------------------+\n",
      "|summary|         SalePrice|        prediction|\n",
      "+-------+------------------+------------------+\n",
      "|  count|              1460|              1460|\n",
      "|   mean|180921.19589041095|180921.19589041092|\n",
      "| stddev| 79442.50288288663|  71293.2065382377|\n",
      "|    min|           34900.0|13693.190058062784|\n",
      "|    max|          755000.0| 680334.9436308902|\n",
      "+-------+------------------+------------------+\n",
      "\n"
     ]
    }
   ],
   "source": [
    "lin_model_sum.predictions.describe().show()"
   ]
  },
  {
   "cell_type": "code",
   "execution_count": 22,
   "metadata": {},
   "outputs": [
    {
     "data": {
      "text/plain": [
       "[Row(features=DenseVector([65.0, 7.0, 2003.0, 2003.0, 196.0, 706.0, 856.0, 856.0, 854.0, 1710.0, 2.0, 8.0, 0.0, 2003.0, 2.0, 548.0, 0.0, 61.0, 1.0, 1.0, 0.0, 0.0, 1.0, 1.0]), SalePrice=208500.0, prediction=220309.7598002758),\n",
       " Row(features=DenseVector([80.0, 6.0, 1976.0, 1976.0, 0.0, 978.0, 1262.0, 1262.0, 0.0, 1262.0, 2.0, 6.0, 1.0, 1976.0, 2.0, 460.0, 298.0, 0.0, 0.0, 1.0, 1.0, 0.0, 0.0, 0.0]), SalePrice=181500.0, prediction=184576.54656944296),\n",
       " Row(features=DenseVector([68.0, 7.0, 2001.0, 2002.0, 162.0, 486.0, 920.0, 920.0, 866.0, 1786.0, 2.0, 6.0, 1.0, 2001.0, 2.0, 608.0, 0.0, 42.0, 1.0, 1.0, 0.0, 0.0, 1.0, 1.0]), SalePrice=223500.0, prediction=221606.30539146264),\n",
       " Row(features=DenseVector([60.0, 7.0, 1915.0, 1970.0, 0.0, 216.0, 756.0, 961.0, 756.0, 1717.0, 1.0, 7.0, 1.0, 1998.0, 3.0, 642.0, 0.0, 35.0, 0.0, 0.0, 2.0, 2.0, 1.0, 0.0]), SalePrice=140000.0, prediction=187767.33178367477),\n",
       " Row(features=DenseVector([84.0, 8.0, 2000.0, 2000.0, 350.0, 655.0, 1145.0, 1145.0, 1053.0, 2198.0, 2.0, 9.0, 1.0, 2000.0, 3.0, 836.0, 192.0, 84.0, 1.0, 1.0, 0.0, 0.0, 1.0, 1.0]), SalePrice=250000.0, prediction=292954.18083047983),\n",
       " Row(features=DenseVector([85.0, 5.0, 1993.0, 1995.0, 0.0, 732.0, 796.0, 796.0, 566.0, 1362.0, 1.0, 5.0, 0.0, 1993.0, 2.0, 480.0, 40.0, 30.0, 0.0, 1.0, 5.0, 0.0, 0.0, 0.0]), SalePrice=143000.0, prediction=138050.85965934303),\n",
       " Row(features=DenseVector([75.0, 8.0, 2004.0, 2005.0, 186.0, 1369.0, 1686.0, 1694.0, 0.0, 1694.0, 2.0, 7.0, 1.0, 2004.0, 2.0, 636.0, 255.0, 57.0, 2.0, 2.0, 0.0, 0.0, 1.0, 1.0]), SalePrice=307000.0, prediction=278265.11974493135),\n",
       " Row(features=DenseVector([70.0, 7.0, 1973.0, 1973.0, 240.0, 859.0, 1107.0, 1107.0, 983.0, 2090.0, 2.0, 7.0, 2.0, 1973.0, 2.0, 484.0, 235.0, 204.0, 2.0, 1.0, 1.0, 0.0, 0.0, 0.0]), SalePrice=200000.0, prediction=231815.50027490268),\n",
       " Row(features=DenseVector([51.0, 7.0, 1931.0, 1950.0, 0.0, 0.0, 952.0, 1022.0, 752.0, 1774.0, 2.0, 8.0, 2.0, 1931.0, 2.0, 468.0, 90.0, 0.0, 0.0, 0.0, 2.0, 2.0, 0.0, 0.0]), SalePrice=129900.0, prediction=180842.43141411408),\n",
       " Row(features=DenseVector([50.0, 5.0, 1939.0, 1950.0, 0.0, 851.0, 991.0, 1077.0, 0.0, 1077.0, 1.0, 5.0, 2.0, 1939.0, 1.0, 205.0, 0.0, 4.0, 0.0, 0.0, 2.0, 0.0, 0.0, 0.0]), SalePrice=118000.0, prediction=125208.15314512479)]"
      ]
     },
     "execution_count": 22,
     "metadata": {},
     "output_type": "execute_result"
    }
   ],
   "source": [
    "lin_model_sum.predictions.head(10)"
   ]
  },
  {
   "cell_type": "code",
   "execution_count": 23,
   "metadata": {},
   "outputs": [],
   "source": [
    "rnd_for=RandomForestRegressor(featuresCol=\"features\",labelCol=\"SalePrice\")"
   ]
  },
  {
   "cell_type": "code",
   "execution_count": 24,
   "metadata": {},
   "outputs": [],
   "source": [
    "fited_rnd_for_model=rnd_for.fit(datas)"
   ]
  },
  {
   "cell_type": "code",
   "execution_count": 25,
   "metadata": {},
   "outputs": [],
   "source": [
    "rf_output=fited_rnd_for_model.transform(datas)"
   ]
  },
  {
   "cell_type": "code",
   "execution_count": 26,
   "metadata": {},
   "outputs": [],
   "source": [
    "#afficher les valeurs des metriques 'r2','rmse','mae' en creant un evaluateur de regression \n",
    "def printMetrics(toEvaluate):\n",
    "    metrics=['r2','rmse','mae']\n",
    "    for m in metrics:\n",
    "        evaluator = RegressionEvaluator(labelCol=\"SalePrice\", predictionCol=\"prediction\", metricName=m)\n",
    "        print (m,evaluator.evaluate(toEvaluate))"
   ]
  },
  {
   "cell_type": "code",
   "execution_count": 27,
   "metadata": {},
   "outputs": [
    {
     "name": "stdout",
     "output_type": "stream",
     "text": [
      "('r2', 0.8979327695864752)\n",
      "('rmse', 25371.56762421738)\n",
      "('mae', 16976.148391241644)\n"
     ]
    }
   ],
   "source": [
    "printMetrics(rf_output)"
   ]
  },
  {
   "cell_type": "code",
   "execution_count": 28,
   "metadata": {},
   "outputs": [],
   "source": [
    "testAssembler = VectorAssembler(inputCols = features, outputCol= \"features\")"
   ]
  },
  {
   "cell_type": "code",
   "execution_count": 29,
   "metadata": {},
   "outputs": [],
   "source": [
    "test_output = assembler.transform(test_df)"
   ]
  },
  {
   "cell_type": "code",
   "execution_count": 30,
   "metadata": {},
   "outputs": [],
   "source": [
    "test_output=test_output.select('Id','features')"
   ]
  },
  {
   "cell_type": "code",
   "execution_count": 31,
   "metadata": {},
   "outputs": [],
   "source": [
    "predictions=fited_rnd_for_model.transform(test_output)"
   ]
  },
  {
   "cell_type": "code",
   "execution_count": 32,
   "metadata": {},
   "outputs": [],
   "source": [
    "predictions=predictions.select('Id',col('prediction').alias('SalePrice'))"
   ]
  },
  {
   "cell_type": "code",
   "execution_count": 33,
   "metadata": {},
   "outputs": [
    {
     "name": "stdout",
     "output_type": "stream",
     "text": [
      "+----+------------------+\n",
      "|  Id|         SalePrice|\n",
      "+----+------------------+\n",
      "|1461|122101.23339981663|\n",
      "|1462|145536.06133842765|\n",
      "|1463| 169104.3640318387|\n",
      "|1464|178064.95122367036|\n",
      "|1465|211042.95990434173|\n",
      "|1466|179797.47703079114|\n",
      "|1467|163819.51185783133|\n",
      "|1468|172726.26755221578|\n",
      "|1469|179654.62809513125|\n",
      "|1470|122115.97458814182|\n",
      "+----+------------------+\n",
      "only showing top 10 rows\n",
      "\n"
     ]
    }
   ],
   "source": [
    "predictions.show(n=10)"
   ]
  },
  {
   "cell_type": "code",
   "execution_count": 34,
   "metadata": {},
   "outputs": [],
   "source": [
    "#sauvegarder le resultat sous format csv dans hdfs\n",
    "predictions.write.format('csv').option('header',True).mode('overwrite').option('sep',',').save('./house_price_spark_ml_predictions.csv')"
   ]
  },
  {
   "cell_type": "code",
   "execution_count": 35,
   "metadata": {},
   "outputs": [],
   "source": [
    "#sauvegarder le resultat sous format csv en local sans ajouter des indices\n",
    "predictions.toPandas().to_csv('house_price_spark_ml_predictions.csv',index=False)"
   ]
  }
 ],
 "metadata": {
  "kernelspec": {
   "display_name": "Python2.7",
   "language": "python",
   "name": "python2.7"
  },
  "language_info": {
   "codemirror_mode": {
    "name": "ipython",
    "version": 2
   },
   "file_extension": ".py",
   "mimetype": "text/x-python",
   "name": "python",
   "nbconvert_exporter": "python",
   "pygments_lexer": "ipython2",
   "version": "2.7.18"
  }
 },
 "nbformat": 4,
 "nbformat_minor": 4
}
