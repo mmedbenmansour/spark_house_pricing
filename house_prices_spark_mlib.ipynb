{
 "cells": [
  {
   "cell_type": "code",
   "execution_count": 1,
   "metadata": {},
   "outputs": [],
   "source": [
    "#Importer la bibliotheque findspark pour ajouter pyspark to sys.path at runtime, cela rend sparkContext disponible dans le code\n",
    "#Importer la bibliotheque pyspark\n",
    "import findspark\n",
    "findspark.init()\n",
    "import pyspark"
   ]
  },
  {
   "cell_type": "code",
   "execution_count": 2,
   "metadata": {},
   "outputs": [],
   "source": [
    "#Point d'entrée principale pour utiliser les fonctionnalités de spark. SparkContext represente la connection à un cluster Spark.\n",
    "from pyspark.context import SparkContext\n",
    "#Point d'entrée pour interagir avec les Datasets et les DataFrames.\n",
    "from pyspark.sql.session import SparkSession"
   ]
  },
  {
   "cell_type": "code",
   "execution_count": 3,
   "metadata": {},
   "outputs": [],
   "source": [
    "#Recuperer une SparkSession ou bien crùer une nouvelle en se basant sur les options passées au Builder si la session est inexistente.\n",
    "spark=SparkSession.builder.master('local').appName('house_price_pred').getOrCreate()"
   ]
  },
  {
   "cell_type": "code",
   "execution_count": 4,
   "metadata": {},
   "outputs": [],
   "source": [
    "train_df = spark.read.csv('train.csv',header=True,inferSchema=True,nullValue=\"NA\")\n",
    "test_df  = spark.read.csv('test.csv',header=True,inferSchema=True,nullValue=\"NA\")"
   ]
  },
  {
   "cell_type": "code",
   "execution_count": 5,
   "metadata": {},
   "outputs": [],
   "source": [
    "from pyspark.sql.functions import isnull, when, count, col\n",
    "null_columns=train_df.select([count(when(isnull(c), c)).alias(c) for c in train_df.columns])"
   ]
  },
  {
   "cell_type": "code",
   "execution_count": 6,
   "metadata": {},
   "outputs": [
    {
     "data": {
      "text/plain": [
       "[Row(Id=0, MSSubClass=0, MSZoning=0, LotFrontage=259, LotArea=0, Street=0, Alley=1369, LotShape=0, LandContour=0, Utilities=0, LotConfig=0, LandSlope=0, Neighborhood=0, Condition1=0, Condition2=0, BldgType=0, HouseStyle=0, OverallQual=0, OverallCond=0, YearBuilt=0, YearRemodAdd=0, RoofStyle=0, RoofMatl=0, Exterior1st=0, Exterior2nd=0, MasVnrType=8, MasVnrArea=8, ExterQual=0, ExterCond=0, Foundation=0, BsmtQual=37, BsmtCond=37, BsmtExposure=38, BsmtFinType1=37, BsmtFinSF1=0, BsmtFinType2=38, BsmtFinSF2=0, BsmtUnfSF=0, TotalBsmtSF=0, Heating=0, HeatingQC=0, CentralAir=0, Electrical=1, 1stFlrSF=0, 2ndFlrSF=0, LowQualFinSF=0, GrLivArea=0, BsmtFullBath=0, BsmtHalfBath=0, FullBath=0, HalfBath=0, BedroomAbvGr=0, KitchenAbvGr=0, KitchenQual=0, TotRmsAbvGrd=0, Functional=0, Fireplaces=0, FireplaceQu=690, GarageType=81, GarageYrBlt=81, GarageFinish=81, GarageCars=0, GarageArea=0, GarageQual=81, GarageCond=81, PavedDrive=0, WoodDeckSF=0, OpenPorchSF=0, EnclosedPorch=0, 3SsnPorch=0, ScreenPorch=0, PoolArea=0, PoolQC=1453, Fence=1179, MiscFeature=1406, MiscVal=0, MoSold=0, YrSold=0, SaleType=0, SaleCondition=0, SalePrice=0)]"
      ]
     },
     "execution_count": 6,
     "metadata": {},
     "output_type": "execute_result"
    }
   ],
   "source": [
    "null_columns.collect()"
   ]
  },
  {
   "cell_type": "code",
   "execution_count": 7,
   "metadata": {},
   "outputs": [],
   "source": [
    "#supprimer les colonne qui ont un taux de valeur null <NA> elevé\n",
    "#Alley=1369, FireplaceQu=690, PoolQC=1453, Fence=1179, MiscFeature=1406\n",
    "high_null_cols = ['Alley', 'FireplaceQu', 'PoolQC', 'Fence', 'MiscFeature']\n",
    "train_df=train_df.drop(*high_null_cols)\n",
    "test_df=test_df.drop(*high_null_cols)"
   ]
  },
  {
   "cell_type": "code",
   "execution_count": 8,
   "metadata": {},
   "outputs": [],
   "source": [
    "#remplacer les valeurs nulles des entiers par la moyennes de colonnes\n",
    "from pyspark.sql.functions import avg\n",
    "def fill_with_mean(this_df):\n",
    "    included=[item[0] for item in this_df.dtypes if item[1].startswith('int')]\n",
    "    stats = this_df.agg(*(avg(c).alias(c) for c in this_df.columns if c in included))\n",
    "    return this_df.na.fill(stats.first().asDict())\n",
    "\n",
    "train_df=fill_with_mean(train_df)\n",
    "test_df=fill_with_mean(test_df)\n"
   ]
  },
  {
   "cell_type": "code",
   "execution_count": 9,
   "metadata": {},
   "outputs": [],
   "source": [
    "#remplacer les valeurs nulles des chaines de caracteres par la chaine de caractere X\n",
    "#BsmtQual=37, BsmtCond=37, BsmtExposure=38, BsmtFinType1=37 BsmtFinType2=38, GarageType=81, GarageYrBlt=81, GarageFinish=81,GarageQual=81, GarageCond=81, Electrical=1,MasVnrType=8,\n",
    "from pyspark.sql.functions import translate\n",
    "def fill_with_string(this_df,replacement):\n",
    "    cols=[item[0] for item in this_df.dtypes if item[1].startswith('string')]\n",
    "    for col in cols:\n",
    "        this_df=this_df.na.fill(replacement,col)\n",
    "    return this_df\n",
    "\n",
    "train_df=fill_with_string(train_df,'X')\n",
    "test_df=fill_with_string(test_df,'X')\n",
    " \n"
   ]
  },
  {
   "cell_type": "code",
   "execution_count": null,
   "metadata": {},
   "outputs": [],
   "source": []
  },
  {
   "cell_type": "code",
   "execution_count": 10,
   "metadata": {},
   "outputs": [
    {
     "data": {
      "text/plain": [
       "[Row(Id=0, MSSubClass=0, MSZoning=0, LotFrontage=0, LotArea=0, Street=0, LotShape=0, LandContour=0, Utilities=0, LotConfig=0, LandSlope=0, Neighborhood=0, Condition1=0, Condition2=0, BldgType=0, HouseStyle=0, OverallQual=0, OverallCond=0, YearBuilt=0, YearRemodAdd=0, RoofStyle=0, RoofMatl=0, Exterior1st=0, Exterior2nd=0, MasVnrType=0, MasVnrArea=0, ExterQual=0, ExterCond=0, Foundation=0, BsmtQual=0, BsmtCond=0, BsmtExposure=0, BsmtFinType1=0, BsmtFinSF1=0, BsmtFinType2=0, BsmtFinSF2=0, BsmtUnfSF=0, TotalBsmtSF=0, Heating=0, HeatingQC=0, CentralAir=0, Electrical=0, 1stFlrSF=0, 2ndFlrSF=0, LowQualFinSF=0, GrLivArea=0, BsmtFullBath=0, BsmtHalfBath=0, FullBath=0, HalfBath=0, BedroomAbvGr=0, KitchenAbvGr=0, KitchenQual=0, TotRmsAbvGrd=0, Functional=0, Fireplaces=0, GarageType=0, GarageYrBlt=0, GarageFinish=0, GarageCars=0, GarageArea=0, GarageQual=0, GarageCond=0, PavedDrive=0, WoodDeckSF=0, OpenPorchSF=0, EnclosedPorch=0, 3SsnPorch=0, ScreenPorch=0, PoolArea=0, MiscVal=0, MoSold=0, YrSold=0, SaleType=0, SaleCondition=0, SalePrice=0)]"
      ]
     },
     "execution_count": 10,
     "metadata": {},
     "output_type": "execute_result"
    }
   ],
   "source": [
    "null_columns=train_df.select([count(when(isnull(c), c)).alias(c) for c in train_df.columns])\n",
    "null_columns.collect()"
   ]
  },
  {
   "cell_type": "code",
   "execution_count": 11,
   "metadata": {},
   "outputs": [
    {
     "data": {
      "text/plain": [
       "[Row(Id=0, MSSubClass=0, MSZoning=0, LotFrontage=0, LotArea=0, Street=0, LotShape=0, LandContour=0, Utilities=0, LotConfig=0, LandSlope=0, Neighborhood=0, Condition1=0, Condition2=0, BldgType=0, HouseStyle=0, OverallQual=0, OverallCond=0, YearBuilt=0, YearRemodAdd=0, RoofStyle=0, RoofMatl=0, Exterior1st=0, Exterior2nd=0, MasVnrType=0, MasVnrArea=0, ExterQual=0, ExterCond=0, Foundation=0, BsmtQual=0, BsmtCond=0, BsmtExposure=0, BsmtFinType1=0, BsmtFinSF1=0, BsmtFinType2=0, BsmtFinSF2=0, BsmtUnfSF=0, TotalBsmtSF=0, Heating=0, HeatingQC=0, CentralAir=0, Electrical=0, 1stFlrSF=0, 2ndFlrSF=0, LowQualFinSF=0, GrLivArea=0, BsmtFullBath=0, BsmtHalfBath=0, FullBath=0, HalfBath=0, BedroomAbvGr=0, KitchenAbvGr=0, KitchenQual=0, TotRmsAbvGrd=0, Functional=0, Fireplaces=0, GarageType=0, GarageYrBlt=0, GarageFinish=0, GarageCars=0, GarageArea=0, GarageQual=0, GarageCond=0, PavedDrive=0, WoodDeckSF=0, OpenPorchSF=0, EnclosedPorch=0, 3SsnPorch=0, ScreenPorch=0, PoolArea=0, MiscVal=0, MoSold=0, YrSold=0, SaleType=0, SaleCondition=0)]"
      ]
     },
     "execution_count": 11,
     "metadata": {},
     "output_type": "execute_result"
    }
   ],
   "source": [
    "null_columns=test_df.select([count(when(isnull(c), c)).alias(c) for c in test_df.columns])\n",
    "null_columns.collect()"
   ]
  },
  {
   "cell_type": "code",
   "execution_count": 12,
   "metadata": {},
   "outputs": [
    {
     "name": "stdout",
     "output_type": "stream",
     "text": [
      "root\n",
      " |-- Id: integer (nullable = true)\n",
      " |-- MSSubClass: integer (nullable = true)\n",
      " |-- MSZoning: string (nullable = false)\n",
      " |-- LotFrontage: integer (nullable = true)\n",
      " |-- LotArea: integer (nullable = true)\n",
      " |-- Street: string (nullable = false)\n",
      " |-- LotShape: string (nullable = false)\n",
      " |-- LandContour: string (nullable = false)\n",
      " |-- Utilities: string (nullable = false)\n",
      " |-- LotConfig: string (nullable = false)\n",
      " |-- LandSlope: string (nullable = false)\n",
      " |-- Neighborhood: string (nullable = false)\n",
      " |-- Condition1: string (nullable = false)\n",
      " |-- Condition2: string (nullable = false)\n",
      " |-- BldgType: string (nullable = false)\n",
      " |-- HouseStyle: string (nullable = false)\n",
      " |-- OverallQual: integer (nullable = true)\n",
      " |-- OverallCond: integer (nullable = true)\n",
      " |-- YearBuilt: integer (nullable = true)\n",
      " |-- YearRemodAdd: integer (nullable = true)\n",
      " |-- RoofStyle: string (nullable = false)\n",
      " |-- RoofMatl: string (nullable = false)\n",
      " |-- Exterior1st: string (nullable = false)\n",
      " |-- Exterior2nd: string (nullable = false)\n",
      " |-- MasVnrType: string (nullable = false)\n",
      " |-- MasVnrArea: integer (nullable = true)\n",
      " |-- ExterQual: string (nullable = false)\n",
      " |-- ExterCond: string (nullable = false)\n",
      " |-- Foundation: string (nullable = false)\n",
      " |-- BsmtQual: string (nullable = false)\n",
      " |-- BsmtCond: string (nullable = false)\n",
      " |-- BsmtExposure: string (nullable = false)\n",
      " |-- BsmtFinType1: string (nullable = false)\n",
      " |-- BsmtFinSF1: integer (nullable = true)\n",
      " |-- BsmtFinType2: string (nullable = false)\n",
      " |-- BsmtFinSF2: integer (nullable = true)\n",
      " |-- BsmtUnfSF: integer (nullable = true)\n",
      " |-- TotalBsmtSF: integer (nullable = true)\n",
      " |-- Heating: string (nullable = false)\n",
      " |-- HeatingQC: string (nullable = false)\n",
      " |-- CentralAir: string (nullable = false)\n",
      " |-- Electrical: string (nullable = false)\n",
      " |-- 1stFlrSF: integer (nullable = true)\n",
      " |-- 2ndFlrSF: integer (nullable = true)\n",
      " |-- LowQualFinSF: integer (nullable = true)\n",
      " |-- GrLivArea: integer (nullable = true)\n",
      " |-- BsmtFullBath: integer (nullable = true)\n",
      " |-- BsmtHalfBath: integer (nullable = true)\n",
      " |-- FullBath: integer (nullable = true)\n",
      " |-- HalfBath: integer (nullable = true)\n",
      " |-- BedroomAbvGr: integer (nullable = true)\n",
      " |-- KitchenAbvGr: integer (nullable = true)\n",
      " |-- KitchenQual: string (nullable = false)\n",
      " |-- TotRmsAbvGrd: integer (nullable = true)\n",
      " |-- Functional: string (nullable = false)\n",
      " |-- Fireplaces: integer (nullable = true)\n",
      " |-- GarageType: string (nullable = false)\n",
      " |-- GarageYrBlt: integer (nullable = true)\n",
      " |-- GarageFinish: string (nullable = false)\n",
      " |-- GarageCars: integer (nullable = true)\n",
      " |-- GarageArea: integer (nullable = true)\n",
      " |-- GarageQual: string (nullable = false)\n",
      " |-- GarageCond: string (nullable = false)\n",
      " |-- PavedDrive: string (nullable = false)\n",
      " |-- WoodDeckSF: integer (nullable = true)\n",
      " |-- OpenPorchSF: integer (nullable = true)\n",
      " |-- EnclosedPorch: integer (nullable = true)\n",
      " |-- 3SsnPorch: integer (nullable = true)\n",
      " |-- ScreenPorch: integer (nullable = true)\n",
      " |-- PoolArea: integer (nullable = true)\n",
      " |-- MiscVal: integer (nullable = true)\n",
      " |-- MoSold: integer (nullable = true)\n",
      " |-- YrSold: integer (nullable = true)\n",
      " |-- SaleType: string (nullable = false)\n",
      " |-- SaleCondition: string (nullable = false)\n",
      " |-- SalePrice: integer (nullable = true)\n",
      "\n"
     ]
    }
   ],
   "source": [
    "train_df.printSchema()\n"
   ]
  },
  {
   "cell_type": "code",
   "execution_count": 13,
   "metadata": {},
   "outputs": [],
   "source": [
    "from pyspark.ml.feature import OneHotEncoder, StringIndexer, VectorAssembler\n",
    "from pyspark.ml import Pipeline"
   ]
  },
  {
   "cell_type": "code",
   "execution_count": 14,
   "metadata": {},
   "outputs": [],
   "source": [
    "cols_to_onehot_ignore=['Id','SalePrice','LotFrontage','LotArea','OverallQual','OverallQual','MasVnrArea','BsmtFinSF1','BsmtFinSF2','BsmtUnfSF','TotalBsmtSF','1stFlrSF','2ndFlrSF','LowQualFinSF','GrLivArea','BsmtFullBath','BsmtHalfBath','FullBath','HalfBath','BedroomAbvGr','KitchenAbvGr','TotRmsAbvGrd','Fireplaces','GarageCars','GarageArea','WoodDeckSF','OpenPorchSF','EnclosedPorch','3SsnPorch','ScreenPorch','PoolArea','MiscVal','MoSold','YearBuilt','YearRemodAdd','GarageYrBlt','YrSold']\n",
    "cols_to_onehot = train_df.select([c for c in train_df.columns if c not in cols_to_onehot_ignore]).columns"
   ]
  },
  {
   "cell_type": "code",
   "execution_count": null,
   "metadata": {},
   "outputs": [],
   "source": []
  },
  {
   "cell_type": "code",
   "execution_count": 15,
   "metadata": {},
   "outputs": [],
   "source": [
    "\n",
    "strings_used = [var for var in cols_to_onehot]\n",
    "\n",
    "stage_string = [StringIndexer(inputCol= c, outputCol= c+\"_string_encoded\") for c in strings_used]\n",
    "stage_one_hot = [OneHotEncoder(inputCol= c+\"_string_encoded\", outputCol= c+ \"_one_hot\") for c in strings_used]\n",
    "ppl = Pipeline(stages= stage_string + stage_one_hot)\n",
    "train_df = ppl.fit(train_df).transform(train_df)\n"
   ]
  },
  {
   "cell_type": "code",
   "execution_count": 16,
   "metadata": {},
   "outputs": [],
   "source": [
    "cols_to_onehot_ignore_test=['Id','LotFrontage','LotArea','OverallQual','OverallQual','MasVnrArea','BsmtFinSF1','BsmtFinSF2','BsmtUnfSF','TotalBsmtSF','1stFlrSF','2ndFlrSF','LowQualFinSF','GrLivArea','BsmtFullBath','BsmtHalfBath','FullBath','HalfBath','BedroomAbvGr','KitchenAbvGr','TotRmsAbvGrd','Fireplaces','GarageCars','GarageArea','WoodDeckSF','OpenPorchSF','EnclosedPorch','3SsnPorch','ScreenPorch','PoolArea','MiscVal','MoSold','YearBuilt','YearRemodAdd','GarageYrBlt','YrSold']\n",
    "cols_to_onehot_test = test_df.select([c for c in test_df.columns if c not in cols_to_onehot_ignore_test]).columns\n",
    "strings_used_test = [var for var in cols_to_onehot_test]\n",
    "stage_string_test = [StringIndexer(inputCol= c, outputCol= c+\"_string_encoded\") for c in strings_used_test]\n",
    "stage_one_hot_test = [OneHotEncoder(inputCol= c+\"_string_encoded\", outputCol= c+ \"_one_hot\") for c in strings_used_test]\n",
    "ppl_test = Pipeline(stages= stage_string_test + stage_one_hot_test)\n",
    "test_df = ppl_test.fit(test_df).transform(test_df)"
   ]
  },
  {
   "cell_type": "code",
   "execution_count": 17,
   "metadata": {},
   "outputs": [
    {
     "data": {
      "text/plain": [
       "DataFrame[Id: int, MSSubClass: int, MSZoning: string, LotFrontage: int, LotArea: int, Street: string, LotShape: string, LandContour: string, Utilities: string, LotConfig: string, LandSlope: string, Neighborhood: string, Condition1: string, Condition2: string, BldgType: string, HouseStyle: string, OverallQual: int, OverallCond: int, YearBuilt: int, YearRemodAdd: int, RoofStyle: string, RoofMatl: string, Exterior1st: string, Exterior2nd: string, MasVnrType: string, MasVnrArea: int, ExterQual: string, ExterCond: string, Foundation: string, BsmtQual: string, BsmtCond: string, BsmtExposure: string, BsmtFinType1: string, BsmtFinSF1: int, BsmtFinType2: string, BsmtFinSF2: int, BsmtUnfSF: int, TotalBsmtSF: int, Heating: string, HeatingQC: string, CentralAir: string, Electrical: string, 1stFlrSF: int, 2ndFlrSF: int, LowQualFinSF: int, GrLivArea: int, BsmtFullBath: int, BsmtHalfBath: int, FullBath: int, HalfBath: int, BedroomAbvGr: int, KitchenAbvGr: int, KitchenQual: string, TotRmsAbvGrd: int, Functional: string, Fireplaces: int, GarageType: string, GarageYrBlt: int, GarageFinish: string, GarageCars: int, GarageArea: int, GarageQual: string, GarageCond: string, PavedDrive: string, WoodDeckSF: int, OpenPorchSF: int, EnclosedPorch: int, 3SsnPorch: int, ScreenPorch: int, PoolArea: int, MiscVal: int, MoSold: int, YrSold: int, SaleType: string, SaleCondition: string, SalePrice: int, MSSubClass_string_encoded: double, MSZoning_string_encoded: double, Street_string_encoded: double, LotShape_string_encoded: double, LandContour_string_encoded: double, Utilities_string_encoded: double, LotConfig_string_encoded: double, LandSlope_string_encoded: double, Neighborhood_string_encoded: double, Condition1_string_encoded: double, Condition2_string_encoded: double, BldgType_string_encoded: double, HouseStyle_string_encoded: double, OverallCond_string_encoded: double, RoofStyle_string_encoded: double, RoofMatl_string_encoded: double, Exterior1st_string_encoded: double, Exterior2nd_string_encoded: double, MasVnrType_string_encoded: double, ExterQual_string_encoded: double, ExterCond_string_encoded: double, Foundation_string_encoded: double, BsmtQual_string_encoded: double, BsmtCond_string_encoded: double, BsmtExposure_string_encoded: double, BsmtFinType1_string_encoded: double, BsmtFinType2_string_encoded: double, Heating_string_encoded: double, HeatingQC_string_encoded: double, CentralAir_string_encoded: double, Electrical_string_encoded: double, KitchenQual_string_encoded: double, Functional_string_encoded: double, GarageType_string_encoded: double, GarageFinish_string_encoded: double, GarageQual_string_encoded: double, GarageCond_string_encoded: double, PavedDrive_string_encoded: double, SaleType_string_encoded: double, SaleCondition_string_encoded: double, MSSubClass_one_hot: vector, MSZoning_one_hot: vector, Street_one_hot: vector, LotShape_one_hot: vector, LandContour_one_hot: vector, Utilities_one_hot: vector, LotConfig_one_hot: vector, LandSlope_one_hot: vector, Neighborhood_one_hot: vector, Condition1_one_hot: vector, Condition2_one_hot: vector, BldgType_one_hot: vector, HouseStyle_one_hot: vector, OverallCond_one_hot: vector, RoofStyle_one_hot: vector, RoofMatl_one_hot: vector, Exterior1st_one_hot: vector, Exterior2nd_one_hot: vector, MasVnrType_one_hot: vector, ExterQual_one_hot: vector, ExterCond_one_hot: vector, Foundation_one_hot: vector, BsmtQual_one_hot: vector, BsmtCond_one_hot: vector, BsmtExposure_one_hot: vector, BsmtFinType1_one_hot: vector, BsmtFinType2_one_hot: vector, Heating_one_hot: vector, HeatingQC_one_hot: vector, CentralAir_one_hot: vector, Electrical_one_hot: vector, KitchenQual_one_hot: vector, Functional_one_hot: vector, GarageType_one_hot: vector, GarageFinish_one_hot: vector, GarageQual_one_hot: vector, GarageCond_one_hot: vector, PavedDrive_one_hot: vector, SaleType_one_hot: vector, SaleCondition_one_hot: vector]"
      ]
     },
     "execution_count": 17,
     "metadata": {},
     "output_type": "execute_result"
    }
   ],
   "source": [
    "train_df"
   ]
  },
  {
   "cell_type": "code",
   "execution_count": 18,
   "metadata": {},
   "outputs": [
    {
     "data": {
      "text/plain": [
       "DataFrame[Id: int, MSSubClass: int, MSZoning: string, LotFrontage: int, LotArea: int, Street: string, LotShape: string, LandContour: string, Utilities: string, LotConfig: string, LandSlope: string, Neighborhood: string, Condition1: string, Condition2: string, BldgType: string, HouseStyle: string, OverallQual: int, OverallCond: int, YearBuilt: int, YearRemodAdd: int, RoofStyle: string, RoofMatl: string, Exterior1st: string, Exterior2nd: string, MasVnrType: string, MasVnrArea: int, ExterQual: string, ExterCond: string, Foundation: string, BsmtQual: string, BsmtCond: string, BsmtExposure: string, BsmtFinType1: string, BsmtFinSF1: int, BsmtFinType2: string, BsmtFinSF2: int, BsmtUnfSF: int, TotalBsmtSF: int, Heating: string, HeatingQC: string, CentralAir: string, Electrical: string, 1stFlrSF: int, 2ndFlrSF: int, LowQualFinSF: int, GrLivArea: int, BsmtFullBath: int, BsmtHalfBath: int, FullBath: int, HalfBath: int, BedroomAbvGr: int, KitchenAbvGr: int, KitchenQual: string, TotRmsAbvGrd: int, Functional: string, Fireplaces: int, GarageType: string, GarageYrBlt: int, GarageFinish: string, GarageCars: int, GarageArea: int, GarageQual: string, GarageCond: string, PavedDrive: string, WoodDeckSF: int, OpenPorchSF: int, EnclosedPorch: int, 3SsnPorch: int, ScreenPorch: int, PoolArea: int, MiscVal: int, MoSold: int, YrSold: int, SaleType: string, SaleCondition: string, MSSubClass_string_encoded: double, MSZoning_string_encoded: double, Street_string_encoded: double, LotShape_string_encoded: double, LandContour_string_encoded: double, Utilities_string_encoded: double, LotConfig_string_encoded: double, LandSlope_string_encoded: double, Neighborhood_string_encoded: double, Condition1_string_encoded: double, Condition2_string_encoded: double, BldgType_string_encoded: double, HouseStyle_string_encoded: double, OverallCond_string_encoded: double, RoofStyle_string_encoded: double, RoofMatl_string_encoded: double, Exterior1st_string_encoded: double, Exterior2nd_string_encoded: double, MasVnrType_string_encoded: double, ExterQual_string_encoded: double, ExterCond_string_encoded: double, Foundation_string_encoded: double, BsmtQual_string_encoded: double, BsmtCond_string_encoded: double, BsmtExposure_string_encoded: double, BsmtFinType1_string_encoded: double, BsmtFinType2_string_encoded: double, Heating_string_encoded: double, HeatingQC_string_encoded: double, CentralAir_string_encoded: double, Electrical_string_encoded: double, KitchenQual_string_encoded: double, Functional_string_encoded: double, GarageType_string_encoded: double, GarageFinish_string_encoded: double, GarageQual_string_encoded: double, GarageCond_string_encoded: double, PavedDrive_string_encoded: double, SaleType_string_encoded: double, SaleCondition_string_encoded: double, MSSubClass_one_hot: vector, MSZoning_one_hot: vector, Street_one_hot: vector, LotShape_one_hot: vector, LandContour_one_hot: vector, Utilities_one_hot: vector, LotConfig_one_hot: vector, LandSlope_one_hot: vector, Neighborhood_one_hot: vector, Condition1_one_hot: vector, Condition2_one_hot: vector, BldgType_one_hot: vector, HouseStyle_one_hot: vector, OverallCond_one_hot: vector, RoofStyle_one_hot: vector, RoofMatl_one_hot: vector, Exterior1st_one_hot: vector, Exterior2nd_one_hot: vector, MasVnrType_one_hot: vector, ExterQual_one_hot: vector, ExterCond_one_hot: vector, Foundation_one_hot: vector, BsmtQual_one_hot: vector, BsmtCond_one_hot: vector, BsmtExposure_one_hot: vector, BsmtFinType1_one_hot: vector, BsmtFinType2_one_hot: vector, Heating_one_hot: vector, HeatingQC_one_hot: vector, CentralAir_one_hot: vector, Electrical_one_hot: vector, KitchenQual_one_hot: vector, Functional_one_hot: vector, GarageType_one_hot: vector, GarageFinish_one_hot: vector, GarageQual_one_hot: vector, GarageCond_one_hot: vector, PavedDrive_one_hot: vector, SaleType_one_hot: vector, SaleCondition_one_hot: vector]"
      ]
     },
     "execution_count": 18,
     "metadata": {},
     "output_type": "execute_result"
    }
   ],
   "source": [
    "test_df"
   ]
  },
  {
   "cell_type": "code",
   "execution_count": null,
   "metadata": {},
   "outputs": [],
   "source": []
  },
  {
   "cell_type": "code",
   "execution_count": 19,
   "metadata": {},
   "outputs": [],
   "source": [
    "#from pyspark.sql.functions import col\n",
    "#df = train_df.select(*(col(c).cast('float').alias(c) for c in train_df.columns))"
   ]
  },
  {
   "cell_type": "code",
   "execution_count": null,
   "metadata": {},
   "outputs": [],
   "source": []
  },
  {
   "cell_type": "code",
   "execution_count": null,
   "metadata": {},
   "outputs": [],
   "source": []
  },
  {
   "cell_type": "code",
   "execution_count": null,
   "metadata": {},
   "outputs": [],
   "source": []
  },
  {
   "cell_type": "code",
   "execution_count": null,
   "metadata": {},
   "outputs": [],
   "source": []
  },
  {
   "cell_type": "code",
   "execution_count": null,
   "metadata": {},
   "outputs": [],
   "source": []
  },
  {
   "cell_type": "code",
   "execution_count": 20,
   "metadata": {},
   "outputs": [],
   "source": [
    "from pyspark.ml.feature import VectorAssembler\n",
    "\n",
    "features = [var + \"_one_hot\" for var in strings_used]+cols_to_onehot_ignore\n",
    "features.remove('Id')\n",
    "#features.remove('SalePrice')\n",
    "\n",
    "assembler = VectorAssembler(inputCols = features, outputCol= \"features\")\n",
    "output = assembler.transform(train_df)"
   ]
  },
  {
   "cell_type": "code",
   "execution_count": null,
   "metadata": {},
   "outputs": [],
   "source": []
  },
  {
   "cell_type": "code",
   "execution_count": null,
   "metadata": {},
   "outputs": [],
   "source": []
  },
  {
   "cell_type": "code",
   "execution_count": 21,
   "metadata": {},
   "outputs": [],
   "source": [
    "datas=output.select('features','SalePrice')"
   ]
  },
  {
   "cell_type": "code",
   "execution_count": 22,
   "metadata": {},
   "outputs": [],
   "source": [
    "from pyspark.ml.regression import LinearRegression "
   ]
  },
  {
   "cell_type": "code",
   "execution_count": 23,
   "metadata": {},
   "outputs": [],
   "source": [
    "reg=LinearRegression(maxIter=10, regParam=0.3, elasticNetParam=0.8,labelCol='SalePrice')"
   ]
  },
  {
   "cell_type": "code",
   "execution_count": 24,
   "metadata": {},
   "outputs": [],
   "source": [
    "fited_model=reg.fit(datas)"
   ]
  },
  {
   "cell_type": "code",
   "execution_count": 25,
   "metadata": {},
   "outputs": [],
   "source": [
    "training_sum=fited_model.summary"
   ]
  },
  {
   "cell_type": "code",
   "execution_count": 26,
   "metadata": {},
   "outputs": [
    {
     "name": "stdout",
     "output_type": "stream",
     "text": [
      "+-------+------------------+------------------+\n",
      "|summary|         SalePrice|        prediction|\n",
      "+-------+------------------+------------------+\n",
      "|  count|              1460|              1460|\n",
      "|   mean|180921.19589041095|180921.19589041104|\n",
      "| stddev| 79442.50288288663|  81120.5679501909|\n",
      "|    min|           34900.0|30554.472208220628|\n",
      "|    max|          755000.0| 720237.2740787979|\n",
      "+-------+------------------+------------------+\n",
      "\n"
     ]
    }
   ],
   "source": [
    "training_sum.predictions.describe().show()"
   ]
  },
  {
   "cell_type": "code",
   "execution_count": 27,
   "metadata": {},
   "outputs": [
    {
     "name": "stdout",
     "output_type": "stream",
     "text": [
      "Intercept: 823344.806791\n"
     ]
    }
   ],
   "source": [
    "#print(\"Coefficients: \" + str(fited_model.coefficients))\n",
    "print(\"Intercept: \" + str(fited_model.intercept))"
   ]
  },
  {
   "cell_type": "code",
   "execution_count": 28,
   "metadata": {},
   "outputs": [
    {
     "name": "stdout",
     "output_type": "stream",
     "text": [
      "RMSE: 155139759.191228\n",
      "r2: 0.975401\n"
     ]
    }
   ],
   "source": [
    "print(\"RMSE: %f\" % training_sum.meanSquaredError)\n",
    "print(\"r2: %f\" % training_sum.r2)"
   ]
  },
  {
   "cell_type": "code",
   "execution_count": 33,
   "metadata": {},
   "outputs": [],
   "source": [
    "features1 = [var + \"_one_hot\" for var in strings_used_test]+cols_to_onehot_ignore_test\n",
    "features1.remove('Id')\n",
    "\n",
    "assembler1 = VectorAssembler(inputCols = features1, outputCol= \"features\")\n",
    "output1 = assembler1.transform(test_df)\n",
    "datas1=output1.select('Id','features')"
   ]
  },
  {
   "cell_type": "code",
   "execution_count": 34,
   "metadata": {},
   "outputs": [
    {
     "name": "stdout",
     "output_type": "stream",
     "text": [
      "+---+--------------------+---------+\n",
      "| Id|            features|SalePrice|\n",
      "+---+--------------------+---------+\n",
      "|  1|(265,[1,14,18,19,...|   208500|\n",
      "|  2|(265,[0,14,18,19,...|   181500|\n",
      "|  3|(265,[1,14,18,20,...|   223500|\n",
      "|  4|(265,[6,14,18,20,...|   140000|\n",
      "|  5|(265,[1,14,18,20,...|   250000|\n",
      "+---+--------------------+---------+\n",
      "only showing top 5 rows\n",
      "\n"
     ]
    }
   ],
   "source": [
    "lr_predictions = fited_model.transform(output)\n",
    "lr_predictions.select(\"Id\",\"features\",\"SalePrice\").show(5)\n"
   ]
  },
  {
   "cell_type": "code",
   "execution_count": 31,
   "metadata": {},
   "outputs": [
    {
     "data": {
      "text/plain": [
       "['MSSubClass_one_hot',\n",
       " 'MSZoning_one_hot',\n",
       " 'Street_one_hot',\n",
       " 'LotShape_one_hot',\n",
       " 'LandContour_one_hot',\n",
       " 'Utilities_one_hot',\n",
       " 'LotConfig_one_hot',\n",
       " 'LandSlope_one_hot',\n",
       " 'Neighborhood_one_hot',\n",
       " 'Condition1_one_hot',\n",
       " 'Condition2_one_hot',\n",
       " 'BldgType_one_hot',\n",
       " 'HouseStyle_one_hot',\n",
       " 'OverallCond_one_hot',\n",
       " 'RoofStyle_one_hot',\n",
       " 'RoofMatl_one_hot',\n",
       " 'Exterior1st_one_hot',\n",
       " 'Exterior2nd_one_hot',\n",
       " 'MasVnrType_one_hot',\n",
       " 'ExterQual_one_hot',\n",
       " 'ExterCond_one_hot',\n",
       " 'Foundation_one_hot',\n",
       " 'BsmtQual_one_hot',\n",
       " 'BsmtCond_one_hot',\n",
       " 'BsmtExposure_one_hot',\n",
       " 'BsmtFinType1_one_hot',\n",
       " 'BsmtFinType2_one_hot',\n",
       " 'Heating_one_hot',\n",
       " 'HeatingQC_one_hot',\n",
       " 'CentralAir_one_hot',\n",
       " 'Electrical_one_hot',\n",
       " 'KitchenQual_one_hot',\n",
       " 'Functional_one_hot',\n",
       " 'GarageType_one_hot',\n",
       " 'GarageFinish_one_hot',\n",
       " 'GarageQual_one_hot',\n",
       " 'GarageCond_one_hot',\n",
       " 'PavedDrive_one_hot',\n",
       " 'SaleType_one_hot',\n",
       " 'SaleCondition_one_hot',\n",
       " 'LotFrontage',\n",
       " 'LotArea',\n",
       " 'OverallQual',\n",
       " 'OverallQual',\n",
       " 'MasVnrArea',\n",
       " 'BsmtFinSF1',\n",
       " 'BsmtFinSF2',\n",
       " 'BsmtUnfSF',\n",
       " 'TotalBsmtSF',\n",
       " '1stFlrSF',\n",
       " '2ndFlrSF',\n",
       " 'LowQualFinSF',\n",
       " 'GrLivArea',\n",
       " 'BsmtFullBath',\n",
       " 'BsmtHalfBath',\n",
       " 'FullBath',\n",
       " 'HalfBath',\n",
       " 'BedroomAbvGr',\n",
       " 'KitchenAbvGr',\n",
       " 'TotRmsAbvGrd',\n",
       " 'Fireplaces',\n",
       " 'GarageCars',\n",
       " 'GarageArea',\n",
       " 'WoodDeckSF',\n",
       " 'OpenPorchSF',\n",
       " 'EnclosedPorch',\n",
       " '3SsnPorch',\n",
       " 'ScreenPorch',\n",
       " 'PoolArea',\n",
       " 'MiscVal',\n",
       " 'MoSold',\n",
       " 'YearBuilt',\n",
       " 'YearRemodAdd',\n",
       " 'GarageYrBlt',\n",
       " 'YrSold']"
      ]
     },
     "execution_count": 31,
     "metadata": {},
     "output_type": "execute_result"
    }
   ],
   "source": [
    "features1"
   ]
  },
  {
   "cell_type": "code",
   "execution_count": null,
   "metadata": {},
   "outputs": [],
   "source": []
  },
  {
   "cell_type": "code",
   "execution_count": null,
   "metadata": {},
   "outputs": [],
   "source": []
  }
 ],
 "metadata": {
  "kernelspec": {
   "display_name": "Python2.7",
   "language": "python",
   "name": "python2.7"
  },
  "language_info": {
   "codemirror_mode": {
    "name": "ipython",
    "version": 2
   },
   "file_extension": ".py",
   "mimetype": "text/x-python",
   "name": "python",
   "nbconvert_exporter": "python",
   "pygments_lexer": "ipython2",
   "version": "2.7.18"
  }
 },
 "nbformat": 4,
 "nbformat_minor": 4
}
